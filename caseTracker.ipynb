{
  "nbformat": 4,
  "nbformat_minor": 0,
  "metadata": {
    "colab": {
      "name": "Copy of caseTracker.ipynb",
      "provenance": [],
      "collapsed_sections": [],
      "toc_visible": true
    },
    "kernelspec": {
      "name": "python3",
      "display_name": "Python 3"
    }
  },
  "cells": [
    {
      "cell_type": "code",
      "metadata": {
        "id": "DhmozCeaPnwt",
        "cellView": "code",
        "colab": {
          "base_uri": "https://localhost:8080/"
        },
        "outputId": "88cde03b-b3d5-4002-81b9-8bda4c1810de"
      },
      "source": [
        "#@title\n",
        "import pandas as pd\n",
        "import numpy as np\n",
        "import os\n",
        "\n",
        "# Mount the drive\n",
        "from google.colab import drive\n",
        "drive.mount('/content/drive')\n",
        "\n",
        "from google.colab import auth\n",
        "auth.authenticate_user()\n",
        "\n",
        "import gspread\n",
        "from oauth2client.client import GoogleCredentials\n",
        "gc = gspread.authorize(GoogleCredentials.get_application_default())\n",
        "\n",
        "# List the tab names. Could be used for asserting in next section\n",
        "# titles_list = gc.open('Copy of Hongwei Dong lab case tracker.xlsx').worksheets()\n",
        "# print(titles_list)\n"
      ],
      "execution_count": 26,
      "outputs": [
        {
          "output_type": "stream",
          "text": [
            "Drive already mounted at /content/drive; to attempt to forcibly remount, call drive.mount(\"/content/drive\", force_remount=True).\n"
          ],
          "name": "stdout"
        }
      ]
    },
    {
      "cell_type": "markdown",
      "metadata": {
        "id": "HK6-gUPOodaM"
      },
      "source": [
        "# New Section"
      ]
    },
    {
      "cell_type": "code",
      "metadata": {
        "colab": {
          "base_uri": "https://localhost:8080/"
        },
        "id": "rmE7SM_jn3eZ",
        "outputId": "20dcef33-4979-432b-e6eb-f58d74b72199"
      },
      "source": [
        "# tab names and pivotal column (case column)\n",
        "tab_names = {'U01 ':2,'U19 Salk Institute':2,'U19 CSHL':2,'MCP':1,'Basal Ganglia':2,'RF1 (HPF)':2,'BLA project':2}\n",
        "tabs = {}\n",
        "for k,v in tab_names.items():\n",
        "  worksheet = gc.open('Copy of Hongwei Dong lab case tracker.xlsx').worksheet(k)\n",
        "  tabs[k] = pd.DataFrame(worksheet.get_all_values())  \n",
        "\n",
        "distinctCases = pd.DataFrame()\n",
        "tracersPathways = pd.DataFrame()\n",
        "actualInjections = pd.DataFrame()\n",
        "\n",
        "# ToDo: Please revist the parsing\n",
        "for k,tab in tabs.items():  \n",
        "  piv = tab_names[k]-1\n",
        "  cases = pd.DataFrame(tab.iloc[:, piv].unique()) # Distinct cases  \n",
        "  cases = cases.applymap(str)\n",
        "  cases = cases.loc[cases[0].str.startswith('S')]\n",
        "  cases['length']= (cases[0]).str.len()\n",
        "  cases = cases[(cases.length>=11) & (cases.length<=13)] # some cases have asterisks?\n",
        "  tracers = pd.DataFrame(tab.iloc[:, piv+3]) # total\n",
        "  injections = pd.DataFrame(tab.iloc[:, piv+4]) # total\n",
        "\n",
        "  distinctCases = distinctCases.append(cases)\n",
        "  tracersPathways = tracersPathways.append(tracers)\n",
        "  actualInjections = actualInjections.append(injections)\n",
        "\n",
        "tracersPathways = tracersPathways.dropna()\n",
        "actualInjections = actualInjections.dropna()\n",
        "distinctCases = distinctCases.dropna()\n",
        "\n",
        "distinctCases = pd.DataFrame(distinctCases.iloc[:,0].unique())\n",
        "distinctCases.index = distinctCases.index + 1\n",
        "distinctCases.to_csv('/distinctCases.csv', header=False)\n",
        "print('/distinctCases.csv')\n",
        "\n",
        "tracersPathways = tracersPathways.iloc[:, 0]\n",
        "tracersPathways.index = tracersPathways.index + 1\n",
        "pd.DataFrame(tracersPathways).to_csv('/tracersPathways.csv', header=False)\n",
        "print('/tracersPathways.csv')\n",
        "\n",
        "pd.DataFrame(actualInjections.iloc[:, 0]).to_csv('/actualInjections.csv')\n",
        "print('/actualInjections.csv')"
      ],
      "execution_count": 30,
      "outputs": [
        {
          "output_type": "stream",
          "text": [
            "/distinctCases.csv\n",
            "/tracersPathways.csv\n",
            "/actualInjections.csv\n"
          ],
          "name": "stdout"
        }
      ]
    }
  ]
}