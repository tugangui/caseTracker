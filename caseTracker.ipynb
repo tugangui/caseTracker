{
  "nbformat": 4,
  "nbformat_minor": 0,
  "metadata": {
    "colab": {
      "name": "caseTracker.ipynb",
      "provenance": [],
      "collapsed_sections": [],
      "authorship_tag": "ABX9TyM58DEtyJntcfQ1GJruI205",
      "include_colab_link": true
    },
    "kernelspec": {
      "name": "python3",
      "display_name": "Python 3"
    }
  },
  "cells": [
    {
      "cell_type": "markdown",
      "metadata": {
        "id": "view-in-github",
        "colab_type": "text"
      },
      "source": [
        "<a href=\"https://colab.research.google.com/github/tugangui/caseTracker/blob/main/caseTracker.ipynb\" target=\"_parent\"><img src=\"https://colab.research.google.com/assets/colab-badge.svg\" alt=\"Open In Colab\"/></a>"
      ]
    },
    {
      "cell_type": "code",
      "metadata": {
        "id": "0LVeQlsw_Jcf",
        "colab": {
          "base_uri": "https://localhost:8080/"
        },
        "cellView": "form",
        "outputId": "ca6246ac-2e5b-42b8-8d2b-00d217daaa1b"
      },
      "source": [
        "#@title\n",
        "import pandas as pd\n",
        "import numpy as np\n",
        "import os\n",
        "\n",
        "# Mount the drive\n",
        "from google.colab import drive\n",
        "drive.mount('/content/drive')\n",
        "\n",
        "from google.colab import auth\n",
        "auth.authenticate_user()\n",
        "\n",
        "import gspread\n",
        "from oauth2client.client import GoogleCredentials\n",
        "gc = gspread.authorize(GoogleCredentials.get_application_default())\n",
        "\n",
        "# List the tab names. Could be used for asserting in next section\n",
        "# titles_list = gc.open('Copy of Hongwei Dong lab case tracker.xlsx').worksheets()\n",
        "# print(titles_list)"
      ],
      "execution_count": null,
      "outputs": [
        {
          "output_type": "stream",
          "text": [
            "Mounted at /content/drive\n"
          ],
          "name": "stdout"
        }
      ]
    },
    {
      "cell_type": "code",
      "metadata": {
        "id": "78lW9CjhGXla"
      },
      "source": [
        "# tab names and pivotal column (case column)\n",
        "tab_names = {'U01 ':1,'U19 Salk Institute':1,'U19 CSHL':1,'MCP':1,'Basal Ganglia':1,'RF1 (HPF)':1,'BLA project':1}\n",
        "surgeon_cols = {'U01 ':9,'U19 Salk Institute':7,'U19 CSHL':8,'MCP':8,'Basal Ganglia':7,'RF1 (HPF)':7,'BLA project':8}\n",
        "tabs = {}\n",
        "for k,v in tab_names.items():\n",
        "  worksheet = gc.open('Copy of Hongwei Dong lab case tracker.xlsx').worksheet(k)\n",
        "  tabs[k] = pd.DataFrame(worksheet.get_all_values())  "
      ],
      "execution_count": null,
      "outputs": []
    },
    {
      "cell_type": "code",
      "metadata": {
        "colab": {
          "base_uri": "https://localhost:8080/"
        },
        "id": "DhmozCeaPnwt",
        "outputId": "6743c4c1-93c1-4a6a-91a5-0dfdcb3e0e63"
      },
      "source": [
        "distinctCases = pd.DataFrame()\n",
        "tracersPathways = pd.DataFrame()\n",
        "actualInjections = pd.DataFrame()\n",
        "total = pd.DataFrame()\n",
        "\n",
        "i=0\n",
        "for k,tab in tabs.items():  \n",
        "  piv = tab_names[k]\n",
        "  s = surgeon_cols[k]\n",
        "  casesSurgeons = tab[[piv, s]].copy()\n",
        "  casesSurgeons = casesSurgeons.rename(columns={piv: 'Case', s: 'Surgeon'})\n",
        "  casesSurgeons = casesSurgeons.drop_duplicates(subset='Case', keep='first')\n",
        "  casesSurgeons = casesSurgeons[casesSurgeons['Case'].str.startswith('S')]\n",
        "  casesSurgeons['length']= (casesSurgeons['Case']).str.len()\n",
        "  casesSurgeons = casesSurgeons[(casesSurgeons.length>=11) & (casesSurgeons.length<=13)] # some cases have asterisks?\n",
        "\n",
        "  cases = pd.DataFrame(tab.iloc[:, piv].unique()) # Distinct cases  \n",
        "  cases = cases.applymap(str)\n",
        "  cases = cases.loc[cases[0].str.startswith('S')]\n",
        "  cases['length']= (cases[0]).str.len()\n",
        "  cases = cases[(cases.length>=11) & (cases.length<=13)] # some cases have asterisks?\n",
        "\n",
        "  tracers = pd.DataFrame(tab.iloc[:, piv+2]) # total\n",
        "  mapping = {tracers.columns[0]:'tracers'}\n",
        "  tracers = tracers.rename(columns=mapping)\n",
        "  tracers['length']= (tracers['tracers']).str.len()\n",
        "  tracers = tracers[(tracers.length>1)] # filter out blank entries\n",
        "\n",
        "  if(k=='BLA project' or k=='U01 '):\n",
        "    injections = pd.DataFrame(tab.iloc[:, piv+4]) # Intended injections column is column 5\n",
        "  else:\n",
        "    injections = pd.DataFrame(tab.iloc[:, piv+3]) # total\n",
        "  mapping = {injections.columns[0]:'injections'}\n",
        "  injections = injections.rename(columns=mapping)\n",
        "  injections['length']= (injections['injections']).str.len()\n",
        "  injections = injections[(injections.length>1)] # filter out blank entries\n",
        "\n",
        "  distinctCases = distinctCases.append(cases)\n",
        "  tracersPathways = tracersPathways.append(tracers)\n",
        "  actualInjections = actualInjections.append(injections)\n",
        "  total = total.append(casesSurgeons)\n",
        "  i += 1\n",
        "\n",
        "total['Case'] = total['Case'].str.slice(stop=11)\n",
        "total.to_csv('/total.csv')\n",
        "\n",
        "tracersPathways = tracersPathways.dropna()\n",
        "actualInjections = actualInjections.dropna()\n",
        "distinctCases = distinctCases.dropna()\n",
        "\n",
        "distinctCases.iloc[:,0] = distinctCases.iloc[:,0].str.slice(stop=11)\n",
        "distinctCases = pd.DataFrame(distinctCases.iloc[:,0].unique())\n",
        "distinctCases.index = distinctCases.index + 1\n",
        "distinctCases.to_csv('/distinctCases.csv', header=False)\n",
        "print('Distinct cases: '+ str(distinctCases.size))\n",
        "print('/distinctCases.csv')\n",
        "\n",
        "tracersPathways = tracersPathways.iloc[:, 0]\n",
        "tracersPathways.index = tracersPathways.index + 1\n",
        "pd.DataFrame(tracersPathways).to_csv('/tracersPathways.csv', header=False)\n",
        "print('Total tracers: '+ str(tracersPathways.size))\n",
        "print('/tracersPathways.csv')\n",
        "\n",
        "actualInjections = actualInjections.iloc[:, 0]\n",
        "actualInjections.index = actualInjections.index + 1\n",
        "pd.DataFrame(actualInjections).to_csv('/actualInjections.csv', header=False)\n",
        "print('Total injections: ' + str(actualInjections.size))\n",
        "print('/actualInjections.csv')\n",
        "\n",
        "ser = [distinctCases, tracersPathways, actualInjections]\n",
        "my_names = ['Cases','Injections','Tracers']\n",
        "\n",
        "df = pd.concat(ser, axis=0, keys=my_names)\n",
        "df.to_csv('/allColumns.csv')\n",
        "print('/allColumns.csv')"
      ],
      "execution_count": null,
      "outputs": [
        {
          "output_type": "stream",
          "text": [
            "Distinct cases: 1869\n",
            "/distinctCases.csv\n",
            "Total tracers: 7575\n",
            "/tracersPathways.csv\n",
            "Total injections: 6690\n",
            "/actualInjections.csv\n",
            "/allColumns.csv\n"
          ],
          "name": "stdout"
        }
      ]
    },
    {
      "cell_type": "code",
      "metadata": {
        "id": "o5MjUatPvZSL"
      },
      "source": [
        "def get_organism_id(argument):\n",
        "    switcher = {\n",
        "        'SG': 7,\n",
        "        'SP': 17,\n",
        "        'SV': 18\n",
        "    }\n",
        "    return switcher.get(argument, 1)\n",
        "\n",
        "cases = pd.Series(distinctCases.iloc[:,0])\n",
        "f = open(\"/casetracker.sql\", \"w\")\n",
        "\n",
        "query = \"INSERT INTO organisms (species, strain, allele_type, gene_marker, description, code) VALUES ('mouse', 'Parvalbumin-Cre', 'transgenic', 'Parvalbumin (PV)', 'These mice selectively express Cre recombinase in PV expressing cells', 'P');\\n\"\n",
        "query = query + \"INSERT INTO organisms (species, strain, allele_type, gene_marker, description, code) VALUES ('mouse', 'Vasoactive Intestinal Peptide-Cre', 'transgenic', 'Vasoactive Intestinal Peptide (VIP)', 'These mice selectively express Cre recombinase in VIP expressing cells', 'P');\\n\"\n",
        "query = query + \"INSERT INTO users(user_name, email, user_group, is_active) VALUES('Lei Gao', 'LeiGao@mednet.ucla.edu',4, 1 )ON DUPLICATE KEY UPDATE email='LeiGao@mednet.ucla.edu';\\n\"\n",
        "\n",
        "#insert into animals + tissueDissections\n",
        "for row in total.itertuples(index=False):\n",
        "    casePrefix = row[0][:2]\n",
        "    query = query + \"INSERT INTO animals (organism_id) SELECT \" + casePrefix + \"FROM tissueDissections WHERE NOT EXISTS(SELECT NULL FROM tissueDissections td WHERE td.tissue_code='\" + row[0] + \"') LIMIT 1;\\n\"\n",
        "    query = query + \"INSERT IGNORE INTO tissueDissections (tissue_code, tissue_name, description, animal_id) VALUES ('\" + row[0] +\"', 'brain', 'brain', LAST_INSERT_ID());\\n\"\n",
        "\n",
        "# insert into surgeries\n",
        "#Lin, Lei, Marlene, Kevin\n",
        "def usernames(argument):\n",
        "    switcher = {\n",
        "        'Monica': \"Monica Song\",\n",
        "        'Lei': \"Lei Gao\",\n",
        "        'Marlene': \"Marlene Becerra\"\n",
        "    }\n",
        "    return switcher.get(argument, \"Lin Gou\")\n",
        "\n",
        "for row in total.itertuples(index=False):\n",
        "    username = usernames(row[1].strip())\n",
        "    query = query + \"\\nINSERT INTO surgeries (user_id, animal_id, tissue_dissection_id) SELECT (select id from users where user_name='\" + username + \"') as user_id, (select animal_id from tissueDissections where tissue_code='\" + row[0] + \"') as animal_id, (select id FROM tissueDissections WHERE tissue_code='\" + row[0] + \"') as tissue_code from surgeries WHERE NOT EXISTS(SELECT s.tissue_dissection_id FROM surgeries s INNER JOIN tissueDissections td on s.tissue_dissection_id=td.id WHERE td.tissue_code='\" + row[0] + \"') LIMIT 1;\"\n",
        "\n",
        "f.write(query)\n",
        "f.close()\n",
        "\n"
      ],
      "execution_count": null,
      "outputs": []
    }
  ]
}