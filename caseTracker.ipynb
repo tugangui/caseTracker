{
  "nbformat": 4,
  "nbformat_minor": 0,
  "metadata": {
    "colab": {
      "name": "caseTracker.ipynb",
      "provenance": [],
      "collapsed_sections": [],
      "authorship_tag": "ABX9TyOc7BSFpxfl4Z2tWdcHENp1",
      "include_colab_link": true
    },
    "kernelspec": {
      "name": "python3",
      "display_name": "Python 3"
    }
  },
  "cells": [
    {
      "cell_type": "markdown",
      "metadata": {
        "id": "view-in-github",
        "colab_type": "text"
      },
      "source": [
        "<a href=\"https://colab.research.google.com/github/tugangui/caseTracker/blob/main/caseTracker.ipynb\" target=\"_parent\"><img src=\"https://colab.research.google.com/assets/colab-badge.svg\" alt=\"Open In Colab\"/></a>"
      ]
    },
    {
      "cell_type": "code",
      "metadata": {
        "colab": {
          "base_uri": "https://localhost:8080/"
        },
        "id": "DhmozCeaPnwt",
        "cellView": "code",
        "outputId": "9f187476-6925-4358-8466-048ff70e5356"
      },
      "source": [
        "#@title\n",
        "import pandas as pd\n",
        "import numpy as np\n",
        "\n",
        "xls = \"/content/Copy of Hongwei Dong lab case tracker.xlsx\"\n",
        "U01 = pd.read_excel(xls, 'U01 ')\n",
        "U19_Salk = pd.read_excel(xls, 'U19 Salk Institute')\n",
        "U19_CSHL = pd.read_excel(xls, 'U19 CSHL')\n",
        "MCP = pd.read_excel(xls, 'MCP')\n",
        "bg = pd.read_excel(xls, 'Basal Ganglia')\n",
        "RF1 = pd.read_excel(xls, 'RF1 (HPF)')\n",
        "BLA = pd.read_excel(xls,'BLA project')\n",
        "\n",
        "tabs = [U01, U19_Salk, U19_CSHL, MCP, bg, RF1, BLA]\n",
        "\n",
        "distinctCases = pd.DataFrame()\n",
        "tracersPathways = pd.DataFrame()\n",
        "actualInjections = pd.DataFrame()\n",
        "\n",
        "for tab in tabs:\n",
        "  \n",
        "  cases = pd.DataFrame(tab.iloc[:, 1].unique()) # Distinct cases\n",
        "  cases = cases.applymap(str)\n",
        "  cases = cases.loc[cases[0].str.startswith('S')]\n",
        "  cases['length']= (cases[0]).str.len()\n",
        "  cases = cases[(cases.length>=11) & (cases.length<=13)] # some cases have asterisks?\n",
        "  tracers = pd.DataFrame(tab.iloc[:, 3]) # total\n",
        "  injections = pd.DataFrame(tab.iloc[:, 4]) # total\n",
        "\n",
        "  distinctCases = distinctCases.append(cases)\n",
        "  tracersPathways = tracersPathways.append(tracers)\n",
        "  actualInjections = actualInjections.append(injections)\n",
        "\n",
        "tracersPathways = tracersPathways.dropna()\n",
        "actualInjections = actualInjections.dropna()\n",
        "distinctCases = distinctCases.dropna()\n",
        "pd.DataFrame(distinctCases.iloc[:, 0].unique()).to_csv('/content/distinctCases.csv')\n",
        "print('/content/distinctCases.csv')\n",
        "pd.DataFrame(tracersPathways.iloc[:, 0]).to_csv('/content/tracersPathways.csv')\n",
        "print('/content/tracersPathways.csv')\n",
        "pd.DataFrame(actualInjections.iloc[:, 0]).to_csv('/content/actualInjections.csv')\n",
        "print('/content/actualInjections.csv')\n",
        "\n"
      ],
      "execution_count": null,
      "outputs": [
        {
          "output_type": "stream",
          "text": [
            "/content/distinctCases.csv\n",
            "/content/tracersPathways.csv\n",
            "/content/actualInjections.csv\n"
          ],
          "name": "stdout"
        }
      ]
    }
  ]
}