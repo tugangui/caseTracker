{
  "nbformat": 4,
  "nbformat_minor": 0,
  "metadata": {
    "colab": {
      "name": "caseTracker.ipynb",
      "provenance": [],
      "collapsed_sections": [],
      "authorship_tag": "ABX9TyP7AlxQimi1HSdh2147QCiT",
      "include_colab_link": true
    },
    "kernelspec": {
      "name": "python3",
      "display_name": "Python 3"
    }
  },
  "cells": [
    {
      "cell_type": "markdown",
      "metadata": {
        "id": "view-in-github",
        "colab_type": "text"
      },
      "source": [
        "<a href=\"https://colab.research.google.com/github/tugangui/caseTracker/blob/main/caseTracker.ipynb\" target=\"_parent\"><img src=\"https://colab.research.google.com/assets/colab-badge.svg\" alt=\"Open In Colab\"/></a>"
      ]
    },
    {
      "cell_type": "code",
      "metadata": {
        "id": "0LVeQlsw_Jcf",
        "colab": {
          "base_uri": "https://localhost:8080/"
        },
        "outputId": "c7de5a8b-6472-4d08-b3d6-9d4c0c11ac55"
      },
      "source": [
        "import pandas as pd\r\n",
        "import numpy as np\r\n",
        "import os\r\n",
        "\r\n",
        "# Mount the drive\r\n",
        "from google.colab import drive\r\n",
        "drive.mount('/content/drive')\r\n",
        "\r\n",
        "from google.colab import auth\r\n",
        "auth.authenticate_user()\r\n",
        "\r\n",
        "import gspread\r\n",
        "from oauth2client.client import GoogleCredentials\r\n",
        "gc = gspread.authorize(GoogleCredentials.get_application_default())\r\n",
        "\r\n",
        "# List the tab names. Could be used for asserting in next section\r\n",
        "# titles_list = gc.open('Copy of Hongwei Dong lab case tracker.xlsx').worksheets()\r\n",
        "# print(titles_list)"
      ],
      "execution_count": null,
      "outputs": [
        {
          "output_type": "stream",
          "text": [
            "Mounted at /content/drive\n"
          ],
          "name": "stdout"
        }
      ]
    },
    {
      "cell_type": "code",
      "metadata": {
        "colab": {
          "base_uri": "https://localhost:8080/"
        },
        "id": "DhmozCeaPnwt",
        "cellView": "code",
        "outputId": "4c159a1f-f32f-421d-a893-d6165f62fa2a"
      },
      "source": [
        "# tab names and pivotal column (case column)\n",
        "tab_names = {'U01 ':1,'U19 Salk Institute':1,'U19 CSHL':1,'MCP':1,'Basal Ganglia':1,'RF1 (HPF)':1,'BLA project':1}\n",
        "tabs = {}\n",
        "for k,v in tab_names.items():\n",
        "  worksheet = gc.open('Copy of Hongwei Dong lab case tracker.xlsx').worksheet(k)\n",
        "  tabs[k] = pd.DataFrame(worksheet.get_all_values())  \n",
        "\n",
        "distinctCases = pd.DataFrame()\n",
        "tracersPathways = pd.DataFrame()\n",
        "actualInjections = pd.DataFrame()\n",
        "\n",
        "# ToDo: Please revist the parsing\n",
        "for k,tab in tabs.items():  \n",
        "  piv = tab_names[k]\n",
        "  cases = pd.DataFrame(tab.iloc[:, piv].unique()) # Distinct cases  \n",
        "  cases = cases.applymap(str)\n",
        "  cases = cases.loc[cases[0].str.startswith('S')]\n",
        "  cases['length']= (cases[0]).str.len()\n",
        "  cases = cases[(cases.length>=11) & (cases.length<=13)] # some cases have asterisks?\n",
        "\n",
        "\n",
        "  tracers = pd.DataFrame(tab.iloc[:, piv+2]) # total\n",
        "  mapping = {tracers.columns[0]:'tracers'}\n",
        "  tracers = tracers.rename(columns=mapping)\n",
        "  tracers['length']= (tracers['tracers']).str.len()\n",
        "  tracers = tracers[(tracers.length>1)] # filter out blank entries\n",
        "\n",
        "  if(k=='BLA project' or k=='U01 '):\n",
        "    injections = pd.DataFrame(tab.iloc[:, piv+4]) # Intended injections column is column 5\n",
        "  else:\n",
        "    injections = pd.DataFrame(tab.iloc[:, piv+3]) # total\n",
        "  mapping = {injections.columns[0]:'injections'}\n",
        "  injections = injections.rename(columns=mapping)\n",
        "  injections['length']= (injections['injections']).str.len()\n",
        "  injections = injections[(injections.length>1)] # filter out blank entries\n",
        "\n",
        "  distinctCases = distinctCases.append(cases)\n",
        "  tracersPathways = tracersPathways.append(tracers)\n",
        "  actualInjections = actualInjections.append(injections)\n",
        "\n",
        "tracersPathways = tracersPathways.dropna()\n",
        "actualInjections = actualInjections.dropna()\n",
        "distinctCases = distinctCases.dropna()\n",
        "\n",
        "distinctCases = pd.DataFrame(distinctCases.iloc[:,0].unique())\n",
        "distinctCases.index = distinctCases.index + 1\n",
        "distinctCases.to_csv('/distinctCases.csv', header=False)\n",
        "print('Distinct cases: '+ str(distinctCases.size))\n",
        "print('/distinctCases.csv')\n",
        "\n",
        "tracersPathways = tracersPathways.iloc[:, 0]\n",
        "tracersPathways.index = tracersPathways.index + 1\n",
        "pd.DataFrame(tracersPathways).to_csv('/tracersPathways.csv', header=False)\n",
        "print('Total tracers: '+ str(tracersPathways.size))\n",
        "print('/tracersPathways.csv')\n",
        "\n",
        "actualInjections = actualInjections.iloc[:, 0]\n",
        "actualInjections.index = actualInjections.index + 1\n",
        "pd.DataFrame(actualInjections).to_csv('/actualInjections.csv', header=False)\n",
        "print('Total injections: ' + str(actualInjections.size))\n",
        "print('/actualInjections.csv')\n",
        "\n",
        "ser = [distinctCases, tracersPathways, actualInjections]\n",
        "my_names = ['Cases','Injections','Tracers']\n",
        "\n",
        "df = pd.concat(ser, axis=0, keys=my_names)\n",
        "df.to_csv('/allColumns.csv')\n",
        "print('/allColumns.csv')"
      ],
      "execution_count": null,
      "outputs": [
        {
          "output_type": "stream",
          "text": [
            "Distinct cases: 1788\n",
            "/distinctCases.csv\n",
            "Total tracers: 7523\n",
            "/tracersPathways.csv\n",
            "Total injections: 6468\n",
            "/actualInjections.csv\n",
            "/allColumns.csv\n"
          ],
          "name": "stdout"
        }
      ]
    }
  ]
}